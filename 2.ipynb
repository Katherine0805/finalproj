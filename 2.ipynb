{
 "cells": [
  {
   "cell_type": "code",
   "execution_count": 2,
   "metadata": {},
   "outputs": [
    {
     "name": "stderr",
     "output_type": "stream",
     "text": [
      "Epoch 1/10: 100%|██████████| 2306/2306 [18:24<00:00,  2.09it/s, accuracy=35.72%, loss=1.3178]  \n"
     ]
    },
    {
     "name": "stdout",
     "output_type": "stream",
     "text": [
      "Epoch 1 Loss: 1.3249, Accuracy: 35.72%\n"
     ]
    },
    {
     "name": "stderr",
     "output_type": "stream",
     "text": [
      "Epoch 2/10: 100%|██████████| 2306/2306 [19:26<00:00,  1.98it/s, accuracy=36.90%, loss=1.3112]  \n"
     ]
    },
    {
     "name": "stdout",
     "output_type": "stream",
     "text": [
      "Epoch 2 Loss: 1.3115, Accuracy: 36.90%\n"
     ]
    },
    {
     "name": "stderr",
     "output_type": "stream",
     "text": [
      "Epoch 3/10: 100%|██████████| 2306/2306 [22:15<00:00,  1.73it/s, accuracy=37.18%, loss=1.3080]  \n"
     ]
    },
    {
     "name": "stdout",
     "output_type": "stream",
     "text": [
      "Epoch 3 Loss: 1.3084, Accuracy: 37.18%\n"
     ]
    },
    {
     "name": "stderr",
     "output_type": "stream",
     "text": [
      "Epoch 4/10: 100%|██████████| 2306/2306 [24:43<00:00,  1.55it/s, accuracy=37.32%, loss=1.3090]  \n"
     ]
    },
    {
     "name": "stdout",
     "output_type": "stream",
     "text": [
      "Epoch 4 Loss: 1.3070, Accuracy: 37.32%\n"
     ]
    },
    {
     "name": "stderr",
     "output_type": "stream",
     "text": [
      "Epoch 5/10: 100%|█████████▉| 2296/2306 [22:59<00:05,  1.97it/s, accuracy=37.39%, loss=1.3071]  "
     ]
    }
   ],
   "source": [
    "import torch\n",
    "import torch.nn as nn\n",
    "import torch.optim as optim\n",
    "from torch.utils.data import DataLoader, Dataset\n",
    "from sklearn.model_selection import train_test_split\n",
    "from tqdm import tqdm\n",
    "\n",
    "# Function to load and preprocess the genome sequence from a FASTA file\n",
    "def load_genome(file_path):\n",
    "    sequence = []\n",
    "    with open(file_path, 'r') as file:\n",
    "        next(file)  # Skip the header\n",
    "        for line in file:\n",
    "            sequence.extend(line.strip())\n",
    "    # Encode the nucleotides\n",
    "    nucleotide_map = {'A': 0, 'C': 1, 'G': 2, 'T': 3}\n",
    "    return [nucleotide_map[nuc] for nuc in sequence if nuc in nucleotide_map]\n",
    "\n",
    "class NucleotideDataset(Dataset):\n",
    "    def __init__(self, sequences):\n",
    "        self.sequences = sequences\n",
    "    \n",
    "    def __len__(self):\n",
    "        return len(self.sequences)\n",
    "    \n",
    "    def __getitem__(self, index):\n",
    "        seq = torch.tensor(self.sequences[index][:-1], dtype=torch.long)\n",
    "        target = torch.tensor(self.sequences[index][1:], dtype=torch.long)\n",
    "        return torch.nn.functional.one_hot(seq, num_classes=4).float().to(torch.device(\"cuda\")), target.to(torch.device(\"cuda\"))\n",
    "\n",
    "class RNNModel(nn.Module):\n",
    "    def __init__(self, input_size, output_size, hidden_dim, n_layers):\n",
    "        super(RNNModel, self).__init__()\n",
    "        self.rnn = nn.RNN(input_size, hidden_dim, n_layers, batch_first=True)\n",
    "        self.fc = nn.Linear(hidden_dim, output_size)\n",
    "    \n",
    "    def forward(self, x, hidden):\n",
    "        x, hidden = self.rnn(x, hidden)\n",
    "        x = self.fc(x)\n",
    "        return x, hidden\n",
    "    \n",
    "    def init_hidden(self, batch_size):\n",
    "        return torch.zeros(self.rnn.num_layers, batch_size, self.rnn.hidden_size)\n",
    "\n",
    "\n",
    "def train_model(model, train_loader, device, optimizer, loss_fn, num_epochs):\n",
    "    model.train()\n",
    "    for epoch in range(num_epochs):\n",
    "        total_loss = 0\n",
    "        total_correct = 0\n",
    "        total_samples = 0\n",
    "        progress_bar = tqdm(train_loader, desc=f'Epoch {epoch + 1}/{num_epochs}')\n",
    "        for seq_batch, target_batch in progress_bar:\n",
    "            seq_batch, target_batch = seq_batch.to(device), target_batch.to(device)\n",
    "            optimizer.zero_grad()\n",
    "            hidden = model.init_hidden(seq_batch.size(0)).to(device)\n",
    "            output, hidden = model(seq_batch, hidden)\n",
    "            loss = loss_fn(output.transpose(1, 2), target_batch)\n",
    "            loss.backward()\n",
    "            optimizer.step()\n",
    "            total_loss += loss.item()\n",
    "            # Calculate accuracy\n",
    "            predicted = output.argmax(dim=2)\n",
    "            correct = (predicted == target_batch).sum().item()\n",
    "            total_correct += correct\n",
    "            total_samples += target_batch.numel()\n",
    "            accuracy = 100 * total_correct / total_samples\n",
    "            # Update the progress bar\n",
    "            progress_bar.set_postfix(loss=f'{loss.item():.4f}', accuracy=f'{accuracy:.2f}%')\n",
    "        average_loss = total_loss / len(train_loader)\n",
    "        print(f'Epoch {epoch + 1} Loss: {average_loss:.4f}, Accuracy: {accuracy:.2f}%')\n",
    "\n",
    "def evaluate_model(model, test_loader, device, loss_fn):\n",
    "    model.eval()\n",
    "    total_loss = 0\n",
    "    total_correct = 0\n",
    "    total_samples = 0\n",
    "    with torch.no_grad():\n",
    "        for seq_batch, target_batch in test_loader:\n",
    "            seq_batch, target_batch = seq_batch.to(device), target_batch.to(device)\n",
    "            hidden = model.init_hidden(seq_batch.size(0)).to(device)\n",
    "            output, hidden = model(seq_batch, hidden)\n",
    "            loss = loss_fn(output.transpose(1, 2), target_batch)\n",
    "            total_loss += loss.item()\n",
    "            # Calculate accuracy\n",
    "            predicted = output.argmax(dim=2)\n",
    "            correct = (predicted == target_batch).sum().item()\n",
    "            total_correct += correct\n",
    "            total_samples += target_batch.numel()\n",
    "        average_loss = total_loss / len(test_loader)\n",
    "        accuracy = 100 * total_correct / total_samples\n",
    "        print(f'Test Loss: {average_loss:.4f}, Accuracy: {accuracy:.2f}%')\n",
    "\n",
    "def main():\n",
    "    file_path = 'Ecoli_GCF_003018035.1_ASM301803v1_genomic (1).fna'  # Update this path\n",
    "    encoded_sequence = load_genome(file_path)\n",
    "    sequences = [encoded_sequence[i:i+101] for i in range(len(encoded_sequence) - 100)]\n",
    "    train_seq, test_seq = train_test_split(sequences, test_size=0.2, random_state=42)\n",
    "    train_dataset = NucleotideDataset(train_seq)\n",
    "    train_loader = DataLoader(train_dataset, batch_size=2048, shuffle=True)\n",
    "    test_dataset = NucleotideDataset(test_seq)\n",
    "    test_loader = DataLoader(test_dataset, batch_size=2048, shuffle=False)\n",
    "\n",
    "    device = torch.device(\"cuda\" if torch.cuda.is_available() else \"mps\")\n",
    "    model = RNNModel(input_size=4, output_size=4, hidden_dim=128, n_layers=2)\n",
    "    model.to(device)\n",
    "    loss_fn = nn.CrossEntropyLoss()\n",
    "    optimizer = optim.Adam(model.parameters(), lr=0.005)\n",
    "\n",
    "    train_model(model, train_loader, device, optimizer, loss_fn, num_epochs=10)\n",
    "    test_loss = evaluate_model(model, test_loader, device, loss_fn)\n",
    "    print(f'Test Loss: {test_loss:.4f}')\n",
    "\n",
    "if __name__ == '__main__':\n",
    "    main()\n"
   ]
  }
 ],
 "metadata": {
  "kernelspec": {
   "display_name": "Python 3",
   "language": "python",
   "name": "python3"
  },
  "language_info": {
   "codemirror_mode": {
    "name": "ipython",
    "version": 3
   },
   "file_extension": ".py",
   "mimetype": "text/x-python",
   "name": "python",
   "nbconvert_exporter": "python",
   "pygments_lexer": "ipython3",
   "version": "3.9.6"
  }
 },
 "nbformat": 4,
 "nbformat_minor": 2
}
